{
  "nbformat": 4,
  "nbformat_minor": 0,
  "metadata": {
    "colab": {
      "name": "Numpy_Excercises_Session_2.ipynb",
      "provenance": [],
      "toc_visible": true,
      "include_colab_link": true
    },
    "kernelspec": {
      "name": "python3",
      "display_name": "Python 3"
    }
  },
  "cells": [
    {
      "cell_type": "markdown",
      "metadata": {
        "id": "view-in-github",
        "colab_type": "text"
      },
      "source": [
        "<a href=\"https://colab.research.google.com/github/gleonmen/spark-week/blob/master/Numpy_Excercises_Session_2.ipynb\" target=\"_parent\"><img src=\"https://colab.research.google.com/assets/colab-badge.svg\" alt=\"Open In Colab\"/></a>"
      ]
    },
    {
      "cell_type": "code",
      "metadata": {
        "id": "yZec5gdQULml",
        "colab_type": "code",
        "colab": {}
      },
      "source": [
        "import numpy as np"
      ],
      "execution_count": 1,
      "outputs": []
    },
    {
      "cell_type": "markdown",
      "metadata": {
        "id": "ocOTIuRvURnK",
        "colab_type": "text"
      },
      "source": [
        "# Numpy Excercises - Session 2"
      ]
    },
    {
      "cell_type": "markdown",
      "metadata": {
        "id": "zgZNJN1vre4L",
        "colab_type": "text"
      },
      "source": [
        "### Exercise 1\n",
        "\n",
        "Reshape `array1` to 7x3 dimensions."
      ]
    },
    {
      "cell_type": "code",
      "metadata": {
        "id": "GcnNr53nri09",
        "colab_type": "code",
        "colab": {
          "base_uri": "https://localhost:8080/",
          "height": 136
        },
        "outputId": "f963f812-e5f7-404e-8945-32328ac96e09"
      },
      "source": [
        "array1 = np.arange(0, 21)\n",
        "array1 = np.reshape(array1,(7,3))\n",
        "array1"
      ],
      "execution_count": 2,
      "outputs": [
        {
          "output_type": "execute_result",
          "data": {
            "text/plain": [
              "array([[ 0,  1,  2],\n",
              "       [ 3,  4,  5],\n",
              "       [ 6,  7,  8],\n",
              "       [ 9, 10, 11],\n",
              "       [12, 13, 14],\n",
              "       [15, 16, 17],\n",
              "       [18, 19, 20]])"
            ]
          },
          "metadata": {
            "tags": []
          },
          "execution_count": 2
        }
      ]
    },
    {
      "cell_type": "markdown",
      "metadata": {
        "id": "LBXx2nR5uOdm",
        "colab_type": "text"
      },
      "source": [
        "### Exercise 2\n",
        "\n",
        "Reshape `array2` into a 3D array of 3x3x3 dimensions."
      ]
    },
    {
      "cell_type": "code",
      "metadata": {
        "id": "-ODB-hFEucck",
        "colab_type": "code",
        "colab": {
          "base_uri": "https://localhost:8080/",
          "height": 204
        },
        "outputId": "e47c33bb-05a2-490f-f606-14ac6bf73934"
      },
      "source": [
        "array2 = np.arange(0, 27).reshape(9, 3)\n",
        "array2\n",
        "array2 = np.reshape(array2,(3,3,3))\n",
        "array2"
      ],
      "execution_count": 8,
      "outputs": [
        {
          "output_type": "execute_result",
          "data": {
            "text/plain": [
              "array([[[ 0,  1,  2],\n",
              "        [ 3,  4,  5],\n",
              "        [ 6,  7,  8]],\n",
              "\n",
              "       [[ 9, 10, 11],\n",
              "        [12, 13, 14],\n",
              "        [15, 16, 17]],\n",
              "\n",
              "       [[18, 19, 20],\n",
              "        [21, 22, 23],\n",
              "        [24, 25, 26]]])"
            ]
          },
          "metadata": {
            "tags": []
          },
          "execution_count": 8
        }
      ]
    },
    {
      "cell_type": "markdown",
      "metadata": {
        "id": "zjohGksuysL3",
        "colab_type": "text"
      },
      "source": [
        "### Exercise 3: Reshape vs Resize\n",
        "\n",
        "reshape and resize both do the same thin. So, what's the difference?\n",
        "\n",
        "Follow the instructions and find out.\n"
      ]
    },
    {
      "cell_type": "code",
      "metadata": {
        "id": "RMefunZBypgP",
        "colab_type": "code",
        "colab": {
          "base_uri": "https://localhost:8080/",
          "height": 85
        },
        "outputId": "e1d01f91-8dc5-40b1-f33f-cb7c63ec5770"
      },
      "source": [
        "# Run this cell without changing the code.\n",
        "array3 = np.arange(0, 9)\n",
        "\n",
        "array3.reshape((3, 3))\n",
        "print(array3)\n",
        "\n",
        "array3.resize((3, 3))\n",
        "print(array3)\n"
      ],
      "execution_count": 11,
      "outputs": [
        {
          "output_type": "stream",
          "text": [
            "[0 1 2 3 4 5 6 7 8]\n",
            "[[0 1 2]\n",
            " [3 4 5]\n",
            " [6 7 8]]\n"
          ],
          "name": "stdout"
        }
      ]
    },
    {
      "cell_type": "code",
      "metadata": {
        "id": "ReT0Y4Xo0M7k",
        "colab_type": "code",
        "colab": {}
      },
      "source": [
        "# Question: What is the difference between reshape and resize\n",
        "\n",
        "a = \"resize returns a new copy of the array, while reshape changes the original array\"\n",
        "b = \"reshape returns a new copy of the array, while resize changes the original array\"\n",
        "c = \"both resize and reshape works in the same way with the original array\"\n",
        "#test3()"
      ],
      "execution_count": null,
      "outputs": []
    },
    {
      "cell_type": "markdown",
      "metadata": {
        "id": "BzXy1g-4wYhJ",
        "colab_type": "text"
      },
      "source": [
        "### Exercise 4\n",
        "\n",
        "Concatenate arrays `a`, `b`, and `c`."
      ]
    },
    {
      "cell_type": "code",
      "metadata": {
        "id": "jEziRUU6wniR",
        "colab_type": "code",
        "colab": {
          "base_uri": "https://localhost:8080/",
          "height": 34
        },
        "outputId": "2cbde867-9697-4d59-db0e-cbf15e188980"
      },
      "source": [
        "a = np.arange(0, 3)\n",
        "b = np.arange(3, 6)\n",
        "c = np.arange(6, 9)\n",
        "array4 = np.concatenate((a,b,c))\n",
        "array4"
      ],
      "execution_count": 13,
      "outputs": [
        {
          "output_type": "execute_result",
          "data": {
            "text/plain": [
              "array([0, 1, 2, 3, 4, 5, 6, 7, 8])"
            ]
          },
          "metadata": {
            "tags": []
          },
          "execution_count": 13
        }
      ]
    },
    {
      "cell_type": "markdown",
      "metadata": {
        "id": "UZf-j3DekNJ1",
        "colab_type": "text"
      },
      "source": [
        "### Exercise 5\n",
        "\n",
        "Concatenate arrays `m1` and `m2` vertically."
      ]
    },
    {
      "cell_type": "code",
      "metadata": {
        "id": "zWBry5m0i6Rd",
        "colab_type": "code",
        "colab": {
          "base_uri": "https://localhost:8080/",
          "height": 85
        },
        "outputId": "bfd9d7f5-ac0d-422a-e067-12f6be367a50"
      },
      "source": [
        "m1 = np.array(\n",
        "    [\n",
        "      [1, 2, 3, 4],\n",
        "      [5, 6, 7, 8]\n",
        "    ]\n",
        ")\n",
        "\n",
        "m2 = np.array(\n",
        "    [\n",
        "      [9, 10, 11, 12],\n",
        "      [13, 14, 15, 16]\n",
        "    ]\n",
        ")\n",
        "\n",
        "array5 = np.concatenate((m1,m2)) \n",
        "array5"
      ],
      "execution_count": 14,
      "outputs": [
        {
          "output_type": "execute_result",
          "data": {
            "text/plain": [
              "array([[ 1,  2,  3,  4],\n",
              "       [ 5,  6,  7,  8],\n",
              "       [ 9, 10, 11, 12],\n",
              "       [13, 14, 15, 16]])"
            ]
          },
          "metadata": {
            "tags": []
          },
          "execution_count": 14
        }
      ]
    },
    {
      "cell_type": "markdown",
      "metadata": {
        "colab_type": "text",
        "id": "4qQ06IZ1k-TG"
      },
      "source": [
        "### Exercise 6\n",
        "\n",
        "Concatenate arrays `m1` and `m2` horizontally."
      ]
    },
    {
      "cell_type": "code",
      "metadata": {
        "colab_type": "code",
        "id": "jsy33sJ7lFN4",
        "colab": {
          "base_uri": "https://localhost:8080/",
          "height": 51
        },
        "outputId": "b9f766cd-f327-44ba-c8b9-47834415b5aa"
      },
      "source": [
        "m1 = np.array(\n",
        "    [\n",
        "      [1, 2, 3, 4],\n",
        "      [5, 6, 7, 8]\n",
        "    ]\n",
        ")\n",
        "\n",
        "m2 = np.array(\n",
        "    [\n",
        "      [9, 10, 11, 12],\n",
        "      [13, 14, 15, 16]\n",
        "    ]\n",
        ")\n",
        "\n",
        "array6 = np.concatenate((m1,m2),axis=1)\n",
        "array6"
      ],
      "execution_count": 16,
      "outputs": [
        {
          "output_type": "execute_result",
          "data": {
            "text/plain": [
              "array([[ 1,  2,  3,  4,  9, 10, 11, 12],\n",
              "       [ 5,  6,  7,  8, 13, 14, 15, 16]])"
            ]
          },
          "metadata": {
            "tags": []
          },
          "execution_count": 16
        }
      ]
    },
    {
      "cell_type": "markdown",
      "metadata": {
        "id": "EZzFNnxx26iu",
        "colab_type": "text"
      },
      "source": [
        "### Exercise 7\n",
        "\n",
        "Get all the cells with value equals to `0` as a list of tuples.\n"
      ]
    },
    {
      "cell_type": "code",
      "metadata": {
        "id": "-_pITT1w3Mys",
        "colab_type": "code",
        "colab": {
          "base_uri": "https://localhost:8080/",
          "height": 170
        },
        "outputId": "de91255a-8577-4a80-977d-2c58db637957"
      },
      "source": [
        "matrix = np.array([\n",
        "    [1, 4, 7, 5, 0],\n",
        "    [0, 2, 9, 0, 1],\n",
        "    [3, 6, 0, 5, 3],\n",
        "    [7, 3, 0, 1, 0],\n",
        "    [3, 6, 1, 0, 4]\n",
        "])\n",
        "print(matrix)\n",
        "zeroTuples = np.where(matrix==0)\n",
        "list1 = zeroTuples[0]\n",
        "list2 = zeroTuples[1]\n",
        "print(list1)\n",
        "print(list2)\n",
        "merged_list = [(list1[i], list2[i]) for i in range(0, len(list1))] \n",
        "merged_list2 = (list1,list2)\n",
        "print(merged_list)\n",
        "#print(merged_list2)\n",
        "#merged_list = [(list1[i], list2[i]) for i in range(0, len(list1))] \n",
        "#arrayConcat = np.asmatrix(zeroTuples)\n",
        "#print(arrayConcat)\n",
        "#tr = np.transpose(arrayConcat)\n",
        "#print(tr)\n",
        "#print(np.asarray(tr))\n",
        "#print(lst)\n",
        "\n",
        " #   return tuple(a)\n",
        "#tuples = (zeroTuples[0], zeroTuples[1])\n",
        "#print(tuples)\n",
        "#print(tupples)\n",
        "#array7 = \n",
        "#test5(array7)"
      ],
      "execution_count": 133,
      "outputs": [
        {
          "output_type": "stream",
          "text": [
            "[[1 4 7 5 0]\n",
            " [0 2 9 0 1]\n",
            " [3 6 0 5 3]\n",
            " [7 3 0 1 0]\n",
            " [3 6 1 0 4]]\n",
            "[0 1 1 2 3 3 4]\n",
            "[4 0 3 2 2 4 3]\n",
            "[(0, 4), (1, 0), (1, 3), (2, 2), (3, 2), (3, 4), (4, 3)]\n",
            "(array([0, 1, 1, 2, 3, 3, 4]), array([4, 0, 3, 2, 2, 4, 3]))\n"
          ],
          "name": "stdout"
        }
      ]
    },
    {
      "cell_type": "markdown",
      "metadata": {
        "id": "j15fagt-_9Sv",
        "colab_type": "text"
      },
      "source": [
        "### Exercise 8\n",
        "\n",
        "Check the documentation for `np.diag` and `np.fliplr`. Use them to extract the diagonals arrays for `matrix`.\n",
        "\n"
      ]
    },
    {
      "cell_type": "code",
      "metadata": {
        "id": "0C4VA6H6B0Qn",
        "colab_type": "code",
        "colab": {
          "base_uri": "https://localhost:8080/",
          "height": 136
        },
        "outputId": "308c3f88-33e6-4de1-e8fe-6011047f262e"
      },
      "source": [
        "diag1 = np.diag(matrix)\n",
        "print(diag1)\n",
        "matrix2 = np.fliplr(matrix) \n",
        "print(matrix2)\n",
        "diag2 = np.diag(matrix2)\n",
        "print(diag2)\n",
        "#testDiag1(diag1)\n",
        "#testDiag2(diag2)"
      ],
      "execution_count": 117,
      "outputs": [
        {
          "output_type": "stream",
          "text": [
            "[1 2 0 1 4]\n",
            "[[0 5 7 4 1]\n",
            " [1 0 9 2 0]\n",
            " [3 5 0 6 3]\n",
            " [0 1 0 3 7]\n",
            " [4 0 1 6 3]]\n",
            "[0 0 0 3 3]\n"
          ],
          "name": "stdout"
        }
      ]
    },
    {
      "cell_type": "markdown",
      "metadata": {
        "id": "-4_ujD9rCCKg",
        "colab_type": "text"
      },
      "source": [
        "### Exercise 9\n",
        "\n",
        "Get the values of the 3th column in `matrix` and the values for the 2th row in `matrix`. Both as numpy arrays.\n"
      ]
    },
    {
      "cell_type": "code",
      "metadata": {
        "id": "75SKt_ydCfCr",
        "colab_type": "code",
        "colab": {
          "base_uri": "https://localhost:8080/",
          "height": 51
        },
        "outputId": "e5973d66-4d81-4488-d5b8-4e63ff031fcb"
      },
      "source": [
        "\n",
        "column = np.asarray(matrix[:,2])\n",
        "print(column)\n",
        "row = np.asarray(matrix[1,:]) \n",
        "print(row)\n",
        "#testRow(row)"
      ],
      "execution_count": 134,
      "outputs": [
        {
          "output_type": "stream",
          "text": [
            "[7 9 0 0 1]\n",
            "[0 2 9 0 1]\n"
          ],
          "name": "stdout"
        }
      ]
    },
    {
      "cell_type": "markdown",
      "metadata": {
        "id": "FAYxMRG4jJUt",
        "colab_type": "text"
      },
      "source": [
        "## Exercise 10\n",
        "\n",
        "Create a new matrix ***x*** from ***a*** and ***m*** with the folowing structure:\n",
        "\n",
        "\n",
        "\n",
        "```\n",
        "array([[4, 4, 5, 4, 4],\n",
        "       [4, 4, 5, 4, 4],\n",
        "       [4, 4, 5, 4, 4]])\n",
        "```\n",
        "\n"
      ]
    },
    {
      "cell_type": "code",
      "metadata": {
        "id": "n_pobdHRjIVl",
        "colab_type": "code",
        "colab": {
          "base_uri": "https://localhost:8080/",
          "height": 306
        },
        "outputId": "ac31b769-9caf-47ed-8f60-0ce59cb65bff"
      },
      "source": [
        "a = np.full((3, 1), 5)\n",
        "m = np.full((3, 4), 4)\n",
        "print(a)\n",
        "print(m)\n",
        "arrays = np.hsplit(m,2)\n",
        "print(arrays)\n",
        "side1 = arrays[0]\n",
        "side2 = arrays[1]\n",
        "print(side1)\n",
        "step1 = np.concatenate((side1,a,side2),axis=1)\n",
        "print(step1)\n"
      ],
      "execution_count": 146,
      "outputs": [
        {
          "output_type": "stream",
          "text": [
            "[[5]\n",
            " [5]\n",
            " [5]]\n",
            "[[4 4 4 4]\n",
            " [4 4 4 4]\n",
            " [4 4 4 4]]\n",
            "[array([[4, 4],\n",
            "       [4, 4],\n",
            "       [4, 4]]), array([[4, 4],\n",
            "       [4, 4],\n",
            "       [4, 4]])]\n",
            "[[4 4]\n",
            " [4 4]\n",
            " [4 4]]\n",
            "[[4 4 5 4 4]\n",
            " [4 4 5 4 4]\n",
            " [4 4 5 4 4]]\n"
          ],
          "name": "stdout"
        }
      ]
    },
    {
      "cell_type": "markdown",
      "metadata": {
        "id": "5FkJzPeGAZMv",
        "colab_type": "text"
      },
      "source": [
        "## Exercise 11\n",
        "\n",
        "Given a:\n",
        "\n",
        "```\n",
        "a = array([[1],\n",
        "       [1],\n",
        "       [2],\n",
        "       [4]])\n",
        "```\n",
        "\n",
        "Create a new array **b** with the following structure:\n",
        "\n",
        "```\n",
        "np.array([\n",
        "  [1, 0, 0],\n",
        "  [1, 0, 0],\n",
        "  [0, 1, 0],\n",
        "  [0, 0, 1],\n",
        "])\n",
        "```\n",
        "Do you detect the pattern? Which operation do you need to create this structure.?\n",
        "\n",
        "\n"
      ]
    },
    {
      "cell_type": "code",
      "metadata": {
        "id": "FqBLf9h6AdRo",
        "colab_type": "code",
        "colab": {}
      },
      "source": [
        "# one hot encode excersise for numpy "
      ],
      "execution_count": 147,
      "outputs": []
    },
    {
      "cell_type": "markdown",
      "metadata": {
        "id": "ZRGKiKtAw-NO",
        "colab_type": "text"
      },
      "source": [
        "# Challenge, Tic Tac Toe\n"
      ]
    },
    {
      "cell_type": "code",
      "metadata": {
        "id": "zXFw_11UxFYb",
        "colab_type": "code",
        "colab": {}
      },
      "source": [
        "cell = {\n",
        "    0: ' ',\n",
        "    1: 'X',\n",
        "    2: 'O'\n",
        "}\n",
        "\n",
        "def print_board():\n",
        "  print('-------------')\n",
        "  print(f'| {cell[game[0][0]]} | {cell[game[0][1]]} | {cell[game[0][2]]} |')\n",
        "  print('-------------')\n",
        "  print(f'| {cell[game[1][0]]} | {cell[game[1][1]]} | {cell[game[1][2]]} |')\n",
        "  print('-------------')\n",
        "  print(f'| {cell[game[2][0]]} | {cell[game[2][1]]} | {cell[game[2][2]]} |')\n",
        "  print('-------------')\n",
        "\n",
        "def skynet_move():\n",
        "  # Select a random empty cell in `game` array and set with value `2`.\n",
        "  # If no empty cells available, do nothing.\n",
        "  pass\n",
        "\n",
        "def win_move(player, r, c):\n",
        "  # Check if the player's move is a win move.\n",
        "  # A win move meets one of these conditions:\n",
        "  #   - All values at row `r` are equal to `player`.\n",
        "  #   - All values at column `c` are equal to `player`.\n",
        "  #   - All values at main diagonal ((0, 0) to (2, 2)) are equal to  `player`.\n",
        "  #   - All values at second diagonal ((2, 0) to (0, 2)) are equal to  `player`.\n",
        "  # Return True if one of the conditions are met, False otherwise.\n",
        "\n",
        "    pass\n",
        "\n",
        "\n",
        "def human_move(r, c):\n",
        "  id \n",
        "  # Set value `1` at game[r][c] if the cell if empty and return True.\n",
        "  # If cell is not empty print \"Cell is not empty\" and return False.\n",
        "  pass\n",
        "\n",
        "def winner_exists():\n",
        "  # If one of the players has already won the game, return True.\n",
        "  # Return False otherwise.\n",
        "  pass\n",
        "\n",
        "\n",
        "def is_game_on():\n",
        "  # This method checks the current status of the game.\n",
        "  # A game is on if meets one of two conditios:\n",
        "  #  - There is still available cells.\n",
        "  #  - There is still no winners.  \n",
        "  pass"
      ],
      "execution_count": 155,
      "outputs": []
    },
    {
      "cell_type": "code",
      "metadata": {
        "id": "wmWZQJFA2Hl5",
        "colab_type": "code",
        "colab": {}
      },
      "source": [
        "# Run this cell to restart the game.\n",
        "\n",
        "# Create a 3x3 array with zero values.\n",
        "game = np.full((3,3),0)"
      ],
      "execution_count": 154,
      "outputs": []
    },
    {
      "cell_type": "code",
      "metadata": {
        "id": "ErKaf7bw2X2Z",
        "colab_type": "code",
        "cellView": "both",
        "colab": {}
      },
      "source": [
        "#@title Tic tac toe controls\n",
        "#@markdown Select the cell for your next move!.\n",
        "row_value = \"2\" #@param [\"0\", \"1\", \"2\"] \n",
        "column_value = \"2\" #@param [\"0\", \"1\", \"2\"]\n",
        "\n",
        "row = int(row_value)\n",
        "column = int(column_value)\n",
        "if(is_game_on()):\n",
        "  status = human_move(row, column)\n",
        "  if(win_move(1, row, column)):\n",
        "    print('Human wins')\n",
        "  elif(status):\n",
        "    skynet_move()\n",
        "    if(win_move(2, row, column)):\n",
        "      print('Skynet wins')\n",
        "else:\n",
        "  print('Game over.')\n",
        "  \n",
        "print_board()"
      ],
      "execution_count": null,
      "outputs": []
    },
    {
      "cell_type": "markdown",
      "metadata": {
        "id": "2Gl4XHf6JN24",
        "colab_type": "text"
      },
      "source": [
        "# Challenge: Basic data analysis\n",
        "\n",
        "The following numpy array is taken from the a census dataset. Every column in this matrix contains some demografic information. For this exercise You will focus in the following columns:\n",
        "\n",
        "*   Column[0]: Age\n",
        "*   Column[1]: workclass\n",
        "*   Column[3]: education\n",
        "*   Column[5]: marital-status\n",
        "*   Column[9]: sex\n",
        "*   Column[10]: capital-gain\n",
        "\n",
        "Please find the following information:\n",
        "\n",
        "\n",
        "*   Age average\n",
        "*   Types of workclass, education and marital-status\n",
        "*   How many records are for male\n",
        "*   How many records are for female\n",
        "*   How many females are above age of 30\n",
        "*   Avergage of capital-gain for males\n",
        "*   Avergage of capital-gain for females\n",
        "\n",
        "\n",
        "\n",
        "\n",
        "\n"
      ]
    },
    {
      "cell_type": "code",
      "metadata": {
        "id": "6deAST4wJiHf",
        "colab_type": "code",
        "colab": {
          "base_uri": "https://localhost:8080/",
          "height": 168
        },
        "outputId": "7f171d4d-6549-4a27-aabf-e443b14db9a5"
      },
      "source": [
        "# First upload file \"census.npy\" befor running this cell.\n",
        "with open('census.npy', 'rb') as f:\n",
        "  census_data = np.load(f, allow_pickle=True)\n",
        "census_data"
      ],
      "execution_count": null,
      "outputs": [
        {
          "output_type": "execute_result",
          "data": {
            "text/plain": [
              "array([[50, ' Self-emp-not-inc', 83311, ..., 13, ' United-States',\n",
              "        ' <=50K'],\n",
              "       [38, ' Private', 215646, ..., 40, ' United-States', ' <=50K'],\n",
              "       [53, ' Private', 234721, ..., 40, ' United-States', ' <=50K'],\n",
              "       ...,\n",
              "       [58, ' Private', 151910, ..., 40, ' United-States', ' <=50K'],\n",
              "       [22, ' Private', 201490, ..., 20, ' United-States', ' <=50K'],\n",
              "       [52, ' Self-emp-inc', 287927, ..., 40, ' United-States', ' >50K']],\n",
              "      dtype=object)"
            ]
          },
          "metadata": {
            "tags": []
          },
          "execution_count": 3
        }
      ]
    }
  ]
}